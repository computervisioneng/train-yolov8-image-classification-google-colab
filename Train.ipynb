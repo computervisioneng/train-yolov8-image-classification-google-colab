{
  "cells": [
    {
      "cell_type": "code",
      "execution_count": null,
      "metadata": {
        "colab": {
          "base_uri": "https://localhost:8080/"
        },
        "id": "CMPpVTDr8y_P",
        "outputId": "e5eb75df-1595-462c-bd96-d20e4bf9d6f9"
      },
      "outputs": [
        {
          "output_type": "stream",
          "name": "stdout",
          "text": [
            "Mounted at /content/gdrive\n"
          ]
        }
      ],
      "source": [
        "### 1. Mount Google Drive ###\n",
        "\n",
        "from google.colab import drive\n",
        "\n",
        "drive.mount('/content/gdrive')"
      ]
    },
    {
      "cell_type": "code",
      "execution_count": null,
      "metadata": {
        "id": "IIAybbfjJmvS"
      },
      "outputs": [],
      "source": [
        "### 2. Prepare data ###\n",
        "\n",
        "!scp '/content/gdrive/My Drive/TrainYolov8ImageClassificationGoogleColab/data.zip' '/content/data.zip'\n",
        "\n",
        "!unzip '/content/data.zip' -d '/content/'"
      ]
    },
    {
      "cell_type": "code",
      "execution_count": null,
      "metadata": {
        "id": "3UdWqYtu9KB_"
      },
      "outputs": [],
      "source": [
        "### 3. Install Ultralytics ###\n",
        "\n",
        "!pip install ultralytics"
      ]
    },
    {
      "cell_type": "code",
      "execution_count": null,
      "metadata": {
        "id": "zy7BcAyj9LvW"
      },
      "outputs": [],
      "source": [
        "### 4. Train model ###\n",
        "\n",
        "import os\n",
        "\n",
        "from ultralytics import YOLO\n",
        "\n",
        "\n",
        "# Load a model\n",
        "model = YOLO(\"yolov8n-cls.pt\")  # load a pretained model\n",
        "\n",
        "# Use the model\n",
        "results = model.train(data='/content/data/', epochs=5)  # train the model\n"
      ]
    },
    {
      "cell_type": "code",
      "execution_count": null,
      "metadata": {
        "id": "dZt7FiKD9NVR"
      },
      "outputs": [],
      "source": [
        "### 5. Copy results ###\n",
        "\n",
        "!scp -r /content/runs '/content/gdrive/My Drive/TrainYolov8ImageClassificationGoogleColab'"
      ]
    }
  ],
  "metadata": {
    "accelerator": "GPU",
    "colab": {
      "provenance": []
    },
    "gpuClass": "standard",
    "kernelspec": {
      "display_name": "Python 3",
      "name": "python3"
    },
    "language_info": {
      "name": "python"
    }
  },
  "nbformat": 4,
  "nbformat_minor": 0
}